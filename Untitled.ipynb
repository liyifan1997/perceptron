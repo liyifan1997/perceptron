{
 "cells": [
  {
   "cell_type": "code",
   "execution_count": 43,
   "metadata": {},
   "outputs": [],
   "source": [
    "import matplotlib.pyplot as plt\n",
    "import numpy as np\n",
    "%matplotlib inline"
   ]
  },
  {
   "cell_type": "code",
   "execution_count": 44,
   "metadata": {},
   "outputs": [],
   "source": [
    "training_set=[[(3,3),-1],[(4,3),1],[(1,1),-1]]     #define training set\n",
    "w=[0,0]          #w1=w2=0\n",
    "b=0         #b=0\n",
    "\n",
    "def cal_y(x):     #define y=w1*x1+w2*x2+b\n",
    "    global w,b\n",
    "    length=len(w)   #len(w)=2\n",
    "    y=b\n",
    "    for i in range(length):\n",
    "        y=y+w[i]*x[0][i]    #y=w1*x1+w2*x2+b\n",
    "    return y\n",
    "\n",
    "def check(x):     #check if  y=w1*x1+w2*x2+b is right or not\n",
    "    global w,b\n",
    "    l=cal_y(x)*x[1]\n",
    "    if l>=0:\n",
    "        return True      #if y is right,return True\n",
    "    else:\n",
    "        return False    #if y is wrong ,return False\n",
    "    \n",
    "def update(x):        #if y is  wrong,update w and b\n",
    "    global w,b\n",
    "    length=len(w)\n",
    "    for i in range(length):\n",
    "        w[i]=w[i]+x[1]*x[0][i]  #update w1,w2\n",
    "    b=b+x[1]           #update b\n",
    "    \n",
    "def main():           \n",
    "    update(training_set[0])        #w1=w2=b=0,so we need to update w and b at first\n",
    "    flag=True                #flag is if w1 ,w2,b don't need to update anymore\n",
    "    while flag:             \n",
    "        count=0           #count is if  x[i]-y is wrong\n",
    "        for i in training_set:\n",
    "            if not check(i):    #if  y is wrong,update\n",
    "                update(i)\n",
    "                count=1          \n",
    "                break\n",
    "        if count==0:           #if y is always right,the circle is over\n",
    "            flag=False\n",
    "            \n",
    "    for j in w:\n",
    "        print(j)\n",
    "    print('\\n')\n",
    "    print(b)    #print the result\n",
    "\n",
    "    x1=np.linspace(0,5,5)\n",
    "    y1=-w[0]/w[1]*x1-b/w[1]\n",
    "    plt.plot(x1,y1)\n",
    "    plt.show()\n",
    " "
   ]
  },
  {
   "cell_type": "code",
   "execution_count": 45,
   "metadata": {
    "scrolled": true
   },
   "outputs": [
    {
     "name": "stdout",
     "output_type": "stream",
     "text": [
      "3\n",
      "-3\n",
      "\n",
      "\n",
      "-1\n"
     ]
    },
    {
     "data": {
      "image/png": "[encoded data removed]",
      "text/plain": [
       "<Figure size 432x288 with 1 Axes>"
      ]
     },
     "metadata": {},
     "output_type": "display_data"
    }
   ],
   "source": [
    "main()"
   ]
  },
  {
   "cell_type": "markdown",
   "metadata": {},
   "source": []
  },
  {
   "cell_type": "code",
   "execution_count": null,
   "metadata": {},
   "outputs": [],
   "source": []
  },
  {
   "cell_type": "markdown",
   "metadata": {},
   "source": []
  },
  {
   "cell_type": "code",
   "execution_count": null,
   "metadata": {},
   "outputs": [],
   "source": []
  },
  {
   "cell_type": "code",
   "execution_count": 2,
   "metadata": {},
   "outputs": [
    {
     "ename": "NameError",
     "evalue": "name 'main' is not defined",
     "output_type": "error",
     "traceback": [
      "\u001b[0;31m---------------------------------------------------------------------------\u001b[0m",
      "\u001b[0;31mNameError\u001b[0m                                 Traceback (most recent call last)",
      "\u001b[0;32m<ipython-input-2-263240bbee7e>\u001b[0m in \u001b[0;36m<module>\u001b[0;34m()\u001b[0m\n\u001b[0;32m----> 1\u001b[0;31m \u001b[0mmain\u001b[0m\u001b[0;34m(\u001b[0m\u001b[0;34m)\u001b[0m\u001b[0;34m\u001b[0m\u001b[0m\n\u001b[0m",
      "\u001b[0;31mNameError\u001b[0m: name 'main' is not defined"
     ]
    }
   ],
   "source": []
  },
  {
   "cell_type": "code",
   "execution_count": 9,
   "metadata": {},
   "outputs": [],
   "source": []
  },
  {
   "cell_type": "code",
   "execution_count": 11,
   "metadata": {},
   "outputs": [
    {
     "name": "stdout",
     "output_type": "stream",
     "text": [
      "<class 'list'>\n",
      "0\n"
     ]
    }
   ],
   "source": []
  },
  {
   "cell_type": "code",
   "execution_count": null,
   "metadata": {},
   "outputs": [],
   "source": []
  }
 ],
 "metadata": {
  "kernelspec": {
   "display_name": "Python 3",
   "language": "python",
   "name": "python3"
  },
  "language_info": {
   "codemirror_mode": {
    "name": "ipython",
    "version": 3
   },
   "file_extension": ".py",
   "mimetype": "text/x-python",
   "name": "python",
   "nbconvert_exporter": "python",
   "pygments_lexer": "ipython3",
   "version": "3.6.5"
  }
 },
 "nbformat": 4,
 "nbformat_minor": 2
}
